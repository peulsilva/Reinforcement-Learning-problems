{
 "cells": [
  {
   "cell_type": "code",
   "execution_count": 1,
   "metadata": {},
   "outputs": [],
   "source": [
    "%load_ext autoreload\n",
    "%autoreload 2"
   ]
  },
  {
   "cell_type": "code",
   "execution_count": 3,
   "metadata": {},
   "outputs": [],
   "source": [
    "import gymnasium as gym\n",
    "import math\n",
    "import random\n",
    "import matplotlib\n",
    "import matplotlib.pyplot as plt\n",
    "from collections import namedtuple, deque\n",
    "from itertools import count\n",
    "import os\n",
    "import numpy as np\n",
    "from tqdm import tqdm\n",
    "import logging\n",
    "from gym.wrappers import RecordVideo\n",
    "from copy import deepcopy\n",
    "\n",
    "import torch\n",
    "import torch.nn as nn\n",
    "import torch.optim as optim\n",
    "import torch.nn.functional as F\n",
    "\n",
    "while \"notebooks\" in os.getcwd():\n",
    "    os.chdir(\"..\")\n",
    "\n",
    "from src.Agent import DQAgent"
   ]
  },
  {
   "cell_type": "code",
   "execution_count": 4,
   "metadata": {},
   "outputs": [
    {
     "name": "stdout",
     "output_type": "stream",
     "text": [
      "mkdir: cannot create directory ‘logs’: File exists\n"
     ]
    }
   ],
   "source": [
    "!mkdir logs\n",
    "logging.basicConfig(filename='logs/lunar-lander.log', encoding='utf-8', level= logging.INFO)"
   ]
  },
  {
   "cell_type": "code",
   "execution_count": 5,
   "metadata": {},
   "outputs": [],
   "source": [
    "env = gym.make(\n",
    "    \"LunarLander-v2\",\n",
    "    continuous = False,\n",
    "    gravity = -10.0,\n",
    "    enable_wind = False,\n",
    "    wind_power =15.0,\n",
    "    turbulence_power=1.5,\n",
    "    render_mode = \"rgb_array\"\n",
    ")"
   ]
  },
  {
   "cell_type": "code",
   "execution_count": null,
   "metadata": {},
   "outputs": [],
   "source": []
  },
  {
   "cell_type": "code",
   "execution_count": 11,
   "metadata": {},
   "outputs": [],
   "source": [
    "state, info = env.reset()\n",
    "img = env.render()"
   ]
  },
  {
   "cell_type": "code",
   "execution_count": 12,
   "metadata": {},
   "outputs": [
    {
     "data": {
      "text/plain": [
       "<matplotlib.image.AxesImage at 0x7f6dcb140cd0>"
      ]
     },
     "execution_count": 12,
     "metadata": {},
     "output_type": "execute_result"
    },
    {
     "data": {
      "image/png": "[encoded data removed]",
      "text/plain": [
       "<Figure size 640x480 with 1 Axes>"
      ]
     },
     "metadata": {},
     "output_type": "display_data"
    }
   ],
   "source": [
    "plt.imshow(img)"
   ]
  },
  {
   "cell_type": "code",
   "execution_count": null,
   "metadata": {},
   "outputs": [],
   "source": []
  },
  {
   "cell_type": "code",
   "execution_count": 6,
   "metadata": {},
   "outputs": [],
   "source": []
  },
  {
   "cell_type": "code",
   "execution_count": 12,
   "metadata": {},
   "outputs": [
    {
     "name": "stderr",
     "output_type": "stream",
     "text": [
      "  0%|          | 0/500 [00:00<?, ?it/s]"
     ]
    },
    {
     "name": "stderr",
     "output_type": "stream",
     "text": [
      "100%|██████████| 500/500 [21:05<00:00,  2.53s/it]\n"
     ]
    }
   ],
   "source": [
    "episodes = 500\n",
    "agent = DQAgent(\n",
    "    n_observations=8,\n",
    "    n_actions= 4,\n",
    "    device= \"cuda\" if torch.cuda.is_available() else \"cpu\"\n",
    ")\n",
    "history = []\n",
    "losses = []\n",
    "rewards = []\n",
    "\n",
    "best_model = None\n",
    "best_reward = -np.inf\n",
    "for e in tqdm(range(episodes)):\n",
    "\n",
    "    state, _ = env.reset()\n",
    "    count = 0\n",
    "    epoch_reward = [] \n",
    "    # Play the game!\n",
    "    while True:\n",
    "        count += 1\n",
    "        # Run agent on the state\n",
    "        \n",
    "        action = agent.act(state)\n",
    "\n",
    "        # Agent performs action\n",
    "        next_state, reward, done, trunc, info = env.step(action)\n",
    "\n",
    "        epoch_reward.append(reward)\n",
    "        \n",
    "        if done or trunc:\n",
    "            next_state = None\n",
    "        # Remember\n",
    "        agent.save_to_memory(state, next_state, action, reward,)\n",
    "\n",
    "        # Learn\n",
    "        loss = agent.learn()\n",
    "        if loss is not None: \n",
    "            losses.append(loss.item())\n",
    "            \n",
    "\n",
    "\n",
    "        # # Loggings\n",
    "        # logging.info(loss)\n",
    "\n",
    "        agent.update_networks()\n",
    "\n",
    "        # Update state\n",
    "        state = next_state\n",
    "\n",
    "        # Check if end of game\n",
    "        if done or trunc:\n",
    "            rewards.append(np.mean(epoch_reward))\n",
    "            if np.mean(epoch_reward) > best_reward:\n",
    "                best_reward = np.mean(epoch_reward)\n",
    "                best_model = deepcopy(agent.policy_dqn)\n",
    "\n",
    "            logging.info(f\"Game ended after {count} ticks\")\n",
    "            count = 0\n",
    "            break"
   ]
  },
  {
   "cell_type": "code",
   "execution_count": 13,
   "metadata": {},
   "outputs": [
    {
     "data": {
      "text/plain": [
       "[<matplotlib.lines.Line2D at 0x7f03e37050c0>]"
      ]
     },
     "execution_count": 13,
     "metadata": {},
     "output_type": "execute_result"
    },
    {
     "data": {
      "image/png": "[encoded data removed]",
      "text/plain": [
       "<Figure size 640x480 with 1 Axes>"
      ]
     },
     "metadata": {},
     "output_type": "display_data"
    }
   ],
   "source": [
    "plt.plot(rewards)\n",
    "plt.title(\"Rewards over epochs\")"
   ]
  },
  {
   "cell_type": "code",
   "execution_count": 14,
   "metadata": {},
   "outputs": [
    {
     "data": {
      "text/plain": [
       "[<matplotlib.lines.Line2D at 0x7f03e07019c0>]"
      ]
     },
     "execution_count": 14,
     "metadata": {},
     "output_type": "execute_result"
    },
    {
     "data": {
      "image/png": "[encoded data removed]",
      "text/plain": [
       "<Figure size 640x480 with 1 Axes>"
      ]
     },
     "metadata": {},
     "output_type": "display_data"
    }
   ],
   "source": [
    "plt.plot(losses)"
   ]
  },
  {
   "cell_type": "code",
   "execution_count": 15,
   "metadata": {},
   "outputs": [
    {
     "name": "stderr",
     "output_type": "stream",
     "text": [
      "/home/pedro/anaconda3/lib/python3.10/site-packages/gym/wrappers/record_video.py:75: UserWarning: \u001b[33mWARN: Overwriting existing videos at /home/pedro/Desktop/Polytechnique/Reinforcement-Learning-problems/mp4 folder (try specifying a different `video_folder` for the `RecordVideo` wrapper if this is not desired)\u001b[0m\n",
      "  logger.warn(\n"
     ]
    }
   ],
   "source": [
    "env_video = RecordVideo(gym.make(\n",
    "    \"LunarLander-v2\",\n",
    "        continuous = False,\n",
    "        gravity = -10.0,\n",
    "        enable_wind = False,\n",
    "        wind_power =15.0,\n",
    "        turbulence_power=1.5,\n",
    "        render_mode = \"rgb_array\"\n",
    "    ), \n",
    "    \"./mp4\", \n",
    ")"
   ]
  },
  {
   "cell_type": "code",
   "execution_count": 16,
   "metadata": {},
   "outputs": [
    {
     "name": "stdout",
     "output_type": "stream",
     "text": [
      "Moviepy - Building video /home/pedro/Desktop/Polytechnique/Reinforcement-Learning-problems/mp4/rl-video-episode-0.mp4.\n",
      "Moviepy - Writing video /home/pedro/Desktop/Polytechnique/Reinforcement-Learning-problems/mp4/rl-video-episode-0.mp4\n",
      "\n"
     ]
    },
    {
     "name": "stderr",
     "output_type": "stream",
     "text": [
      "                                                               \r"
     ]
    },
    {
     "name": "stdout",
     "output_type": "stream",
     "text": [
      "Moviepy - Done !\n",
      "Moviepy - video ready /home/pedro/Desktop/Polytechnique/Reinforcement-Learning-problems/mp4/rl-video-episode-0.mp4\n"
     ]
    }
   ],
   "source": [
    "count = 0\n",
    "state, _= env_video.reset()\n",
    "while True:\n",
    "    count += 1\n",
    "    # Run agent on the state\n",
    "    \n",
    "    action = agent.act(state)\n",
    "\n",
    "    # Agent performs action\n",
    "    next_state, reward, done, trunc, info = env_video.step(action)\n",
    "\n",
    "\n",
    "    # Update state\n",
    "    state = next_state\n",
    "\n",
    "    # Check if end of game\n",
    "    if done or trunc:\n",
    "        logging.info(f\"Game ended after {count} ticks\")\n",
    "        count = 0\n",
    "        break"
   ]
  },
  {
   "cell_type": "code",
   "execution_count": null,
   "metadata": {},
   "outputs": [],
   "source": []
  }
 ],
 "metadata": {
  "kernelspec": {
   "display_name": "base",
   "language": "python",
   "name": "python3"
  },
  "language_info": {
   "codemirror_mode": {
    "name": "ipython",
    "version": 3
   },
   "file_extension": ".py",
   "mimetype": "text/x-python",
   "name": "python",
   "nbconvert_exporter": "python",
   "pygments_lexer": "ipython3",
   "version": "3.10.9"
  }
 },
 "nbformat": 4,
 "nbformat_minor": 2
}
